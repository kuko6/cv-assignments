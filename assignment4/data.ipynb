{
 "cells": [
  {
   "cell_type": "code",
   "execution_count": 1,
   "metadata": {},
   "outputs": [],
   "source": [
    "import os\n",
    "import glob\n",
    "import numpy as np\n",
    "import random"
   ]
  },
  {
   "attachments": {},
   "cell_type": "markdown",
   "metadata": {},
   "source": [
    "# Data reorganization"
   ]
  },
  {
   "cell_type": "code",
   "execution_count": 20,
   "metadata": {},
   "outputs": [
    {
     "name": "stdout",
     "output_type": "stream",
     "text": [
      "['R2837.jpg', 'R2189.jpg', 'R1480.jpg']\n",
      "['R2739.jpg', 'R2365.jpg', 'R1717.jpg']\n"
     ]
    }
   ],
   "source": [
    "imgs = glob.glob('*.jpg', root_dir=os.path.join('data/asl_alphabet_train/', 'R'))\n",
    "print(imgs[:3])\n",
    "np.random.shuffle(imgs)\n",
    "print(imgs[:3])"
   ]
  },
  {
   "cell_type": "code",
   "execution_count": 22,
   "metadata": {},
   "outputs": [
    {
     "data": {
      "text/plain": [
       "['7ed65706-b4df-46b2-bbd6-3cdd4fb85610.rgb_0000.png',\n",
       " '82246b69-a0ef-47cb-9a64-570e60c3bdc6.rgb_0000.png',\n",
       " '35ffe898-6947-4b50-9fd7-d184354ef4d4.rgb_0000.png']"
      ]
     },
     "execution_count": 22,
     "metadata": {},
     "output_type": "execute_result"
    }
   ],
   "source": [
    "synthetic_imgs = glob.glob('*.png', root_dir=os.path.join('data/Train_Alphabet/', 'R'))\n",
    "synthetic_imgs[:3]"
   ]
  },
  {
   "cell_type": "code",
   "execution_count": 13,
   "metadata": {},
   "outputs": [],
   "source": [
    "def create_folder(folder_path):\n",
    "    if not os.path.isdir(folder_path):\n",
    "        os.mkdir(folder_path)"
   ]
  },
  {
   "cell_type": "code",
   "execution_count": 28,
   "metadata": {},
   "outputs": [],
   "source": [
    "def move_files(files, old_dir, new_dir):\n",
    "    for f in files:\n",
    "        os.rename(os.path.join(old_dir, f), os.path.join(new_dir, f))"
   ]
  },
  {
   "attachments": {},
   "cell_type": "markdown",
   "metadata": {},
   "source": [
    "### Create Train/Validation set"
   ]
  },
  {
   "cell_type": "code",
   "execution_count": 29,
   "metadata": {},
   "outputs": [
    {
     "name": "stdout",
     "output_type": "stream",
     "text": [
      "R\n",
      "U\n",
      "I\n",
      "N\n",
      "G\n",
      "Z\n",
      "T\n",
      "S\n",
      "A\n",
      "F\n",
      "O\n",
      "H\n",
      "del\n",
      "nothing\n",
      "space\n",
      "M\n",
      "J\n",
      "C\n",
      "D\n",
      "V\n",
      "Q\n",
      "X\n",
      "E\n",
      "B\n",
      "K\n",
      "L\n",
      "Y\n",
      "P\n",
      "W\n"
     ]
    }
   ],
   "source": [
    "original_dir = 'data/asl_alphabet_train/'\n",
    "new_dir = 'data/asl_dataset/'\n",
    "synthetic_dir = 'data/Train_Alphabet/'\n",
    "\n",
    "for letter in os.listdir(original_dir):\n",
    "    if os.path.isdir(os.path.join(original_dir, letter)):\n",
    "        create_folder(os.path.join(new_dir, letter))\n",
    "        imgs = glob.glob('*.jpg', root_dir=os.path.join(original_dir, letter))\n",
    "        np.random.shuffle(imgs)\n",
    "        if os.path.isdir(os.path.join(synthetic_dir, letter)):\n",
    "            # move 900 from original and all from synthetic\n",
    "            synthetic_imgs = glob.glob('*.png', root_dir=os.path.join(synthetic_dir, letter))\n",
    "            move_files(synthetic_imgs, os.path.join(synthetic_dir, letter), os.path.join(new_dir, letter))\n",
    "            move_files(imgs[:900], os.path.join(original_dir, letter), os.path.join(new_dir, letter))\n",
    "        else:\n",
    "            # move 1800 from original\n",
    "            move_files(imgs[:1800], os.path.join(original_dir, letter), os.path.join(new_dir, letter))\n",
    "        print(letter)\n"
   ]
  },
  {
   "cell_type": "code",
   "execution_count": 32,
   "metadata": {},
   "outputs": [
    {
     "name": "stdout",
     "output_type": "stream",
     "text": [
      "A 1800\n",
      "B 1800\n",
      "C 1800\n",
      "D 1800\n",
      "E 1800\n",
      "F 1800\n",
      "G 1800\n",
      "H 1800\n",
      "I 1800\n",
      "J 1800\n",
      "K 1800\n",
      "L 1800\n",
      "M 1800\n",
      "N 1800\n",
      "O 1800\n",
      "P 1800\n",
      "Q 1800\n",
      "R 1800\n",
      "S 1800\n",
      "T 1800\n",
      "U 1800\n",
      "V 1800\n",
      "W 1800\n",
      "X 1800\n",
      "Y 1800\n",
      "Z 1800\n",
      "del 1800\n",
      "nothing 1800\n",
      "space 1800\n",
      "52200\n"
     ]
    }
   ],
   "source": [
    "folders = sorted(glob.glob('*', root_dir=new_dir))\n",
    "s = 0\n",
    "for folder in folders:\n",
    "    n = len(os.listdir(os.path.join(new_dir, folder)))\n",
    "    s += n\n",
    "    print(folder, n)\n",
    "print(s)"
   ]
  },
  {
   "cell_type": "code",
   "execution_count": 34,
   "metadata": {},
   "outputs": [
    {
     "data": {
      "text/plain": [
       "5220.0"
      ]
     },
     "execution_count": 34,
     "metadata": {},
     "output_type": "execute_result"
    }
   ],
   "source": [
    "52200*0.1"
   ]
  },
  {
   "cell_type": "code",
   "execution_count": 38,
   "metadata": {},
   "outputs": [
    {
     "data": {
      "text/plain": [
       "331.7241379310345"
      ]
     },
     "execution_count": 38,
     "metadata": {},
     "output_type": "execute_result"
    }
   ],
   "source": [
    "(10440-820)/29"
   ]
  },
  {
   "attachments": {},
   "cell_type": "markdown",
   "metadata": {},
   "source": [
    "### Create Test set"
   ]
  },
  {
   "cell_type": "code",
   "execution_count": 39,
   "metadata": {},
   "outputs": [
    {
     "name": "stdout",
     "output_type": "stream",
     "text": [
      "R\n",
      "U\n",
      "I\n",
      "N\n",
      "G\n",
      "Z\n",
      "T\n",
      "S\n",
      "A\n",
      "F\n",
      "O\n",
      "H\n",
      "del\n",
      "nothing\n",
      "space\n",
      "M\n",
      "J\n",
      "C\n",
      "D\n",
      "V\n",
      "Q\n",
      "X\n",
      "E\n",
      "B\n",
      "K\n",
      "L\n",
      "Y\n",
      "P\n",
      "W\n"
     ]
    }
   ],
   "source": [
    "original_dir = 'data/asl_alphabet_train/'\n",
    "new_dir = 'data/asl_dataset_test/'\n",
    "\n",
    "for letter in os.listdir(original_dir):\n",
    "    if os.path.isdir(os.path.join(original_dir, letter)):\n",
    "        create_folder(os.path.join(new_dir, letter))\n",
    "        imgs = glob.glob('*.jpg', root_dir=os.path.join(original_dir, letter))\n",
    "        np.random.shuffle(imgs)\n",
    "        # move 331 from original\n",
    "        move_files(imgs[:331], os.path.join(original_dir, letter), os.path.join(new_dir, letter))\n",
    "        print(letter)\n"
   ]
  },
  {
   "cell_type": "code",
   "execution_count": 40,
   "metadata": {},
   "outputs": [
    {
     "name": "stdout",
     "output_type": "stream",
     "text": [
      "A 361\n",
      "B 361\n",
      "C 361\n",
      "D 361\n",
      "E 361\n",
      "F 361\n",
      "G 361\n",
      "H 361\n",
      "I 361\n",
      "J 361\n",
      "K 361\n",
      "L 361\n",
      "M 361\n",
      "N 361\n",
      "O 361\n",
      "P 361\n",
      "Q 361\n",
      "R 361\n",
      "S 361\n",
      "T 361\n",
      "U 361\n",
      "V 361\n",
      "W 361\n",
      "X 361\n",
      "Y 361\n",
      "Z 361\n",
      "del 361\n",
      "nothing 361\n",
      "space 361\n",
      "10469\n"
     ]
    }
   ],
   "source": [
    "folders = sorted(glob.glob('*', root_dir='data/asl_dataset_test/'))\n",
    "s = 0\n",
    "for folder in folders:\n",
    "    n = len(os.listdir(os.path.join('data/asl_dataset_test/', folder)))\n",
    "    s += n\n",
    "    print(folder, n)\n",
    "print(s)"
   ]
  }
 ],
 "metadata": {
  "kernelspec": {
   "display_name": "cv",
   "language": "python",
   "name": "python3"
  },
  "language_info": {
   "codemirror_mode": {
    "name": "ipython",
    "version": 3
   },
   "file_extension": ".py",
   "mimetype": "text/x-python",
   "name": "python",
   "nbconvert_exporter": "python",
   "pygments_lexer": "ipython3",
   "version": "3.10.9"
  },
  "orig_nbformat": 4
 },
 "nbformat": 4,
 "nbformat_minor": 2
}
